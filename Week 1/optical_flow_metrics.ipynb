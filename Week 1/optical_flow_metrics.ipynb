{
 "cells": [
  {
   "cell_type": "code",
   "execution_count": 1,
   "id": "3e0056e2",
   "metadata": {},
   "outputs": [],
   "source": [
    "import cv2\n",
    "import numpy as np\n",
    "\n",
    "def read_kitti_flow(filename):\n",
    "    #reads the optical flow from the KITTI dataset\n",
    "    # In R, flow along x-axis normalized by image width and quantized to [0;2^16 – 1]\n",
    "    # In G, flow along x-axis normalized by image width and quantized to [0;2^16 – 1]\n",
    "    # B = 0 for invalid flow (e.g., sky pixels)\n",
    "    \n",
    "    img = cv2.imread(filename,cv2.IMREAD_ANYCOLOR | cv2.IMREAD_ANYDEPTH )\n",
    "\n",
    "    flow = img.astype(np.float32)\n",
    "    flow = flow[:,:,1:]\n",
    "    #undo quantization\n",
    "    flow = flow-2**15\n",
    "    flow = flow/64\n",
    "    #valid data is in the last channel (first one because opencv-> bgr instead of)\n",
    "    valid_data = img[:,:,0]\n",
    "    \n",
    "    #store u v arrow directions\n",
    "    u = (flow[:, :, 1])\n",
    "    v = (flow[:, :, 0])\n",
    "    return u,v,valid_data\n",
    "\n",
    "def MSEN(u_pred, v_pred, u_gt, v_gt, valid_data_gt):\n",
    "    distances = np.sqrt(np.power(u_pred - u_gt, 2) + np.power(v_pred - v_gt, 2))\n",
    "    return np.mean(distances[valid_data_gt!=0])\n",
    "\n",
    "def PEPN(u_pred, v_pred, u_gt, v_gt, valid_data_gt, th=3):\n",
    "    distances = np.sqrt(np.power(u_pred - u_gt, 2) + np.power(v_pred - v_gt, 2))\n",
    "    return (np.sum(distances[valid_data_gt!=0] > th) / np.sum(valid_data_gt!=0)) * 100\n",
    "\n",
    "def optical_flow_metrics(filename_pred, filename_gt):\n",
    "    \n",
    "    dataset_flow_path_gt = '../datasets/data_stereo_flow/training/flow_noc/'\n",
    "    filename_path_gt = dataset_flow_path_gt + filename_gt\n",
    "\n",
    "    dataset_flow_path_pred = '../datasets/results_opticalflow_kitti/results/'\n",
    "    filename_path_pred = dataset_flow_path_pred + filename_pred\n",
    "\n",
    "    u_gt, v_gt, valid_data_gt = read_kitti_flow(filename_path_gt)\n",
    "    u_gt = u_gt * valid_data_gt\n",
    "    v_gt = v_gt * valid_data_gt\n",
    "\n",
    "    u_pred, v_pred, valid_data_pred = read_kitti_flow(filename_path_pred)\n",
    "    u_pred = u_pred * valid_data_pred\n",
    "    v_pred = v_pred * valid_data_pred\n",
    "\n",
    "    msen = MSEN(u_pred, v_pred, u_gt, v_gt, valid_data_gt)\n",
    "    pepn = PEPN(u_pred, v_pred, u_gt, v_gt, valid_data_gt)\n",
    "\n",
    "    print('MSEN for image', filename_gt + \":\", round(msen,4))\n",
    "    print('PEPN for image', filename_gt + \":\", str(round(pepn,4)) + \"%\")"
   ]
  },
  {
   "cell_type": "code",
   "execution_count": 2,
   "id": "65ebcf60-2029-4662-92a4-fba99759c81b",
   "metadata": {},
   "outputs": [
    {
     "name": "stdout",
     "output_type": "stream",
     "text": [
      "MSEN for image 000045_10.png: 10.6271\n",
      "PEPN for image 000045_10.png: 78.5603%\n"
     ]
    }
   ],
   "source": [
    "optical_flow_metrics(filename_pred = 'LKflow_000045_10.png', filename_gt = '000045_10.png')"
   ]
  },
  {
   "cell_type": "code",
   "execution_count": 3,
   "id": "3c78116f-9ea1-42a3-9e9e-c3883626e931",
   "metadata": {},
   "outputs": [
    {
     "name": "stdout",
     "output_type": "stream",
     "text": [
      "MSEN for image 000157_10.png: 2.7504\n",
      "PEPN for image 000157_10.png: 34.0476%\n"
     ]
    }
   ],
   "source": [
    "optical_flow_metrics(filename_pred = 'LKflow_000157_10.png', filename_gt = '000157_10.png')"
   ]
  }
 ],
 "metadata": {
  "kernelspec": {
   "display_name": "Python 3 (ipykernel)",
   "language": "python",
   "name": "python3"
  },
  "language_info": {
   "codemirror_mode": {
    "name": "ipython",
    "version": 3
   },
   "file_extension": ".py",
   "mimetype": "text/x-python",
   "name": "python",
   "nbconvert_exporter": "python",
   "pygments_lexer": "ipython3",
   "version": "3.9.12"
  }
 },
 "nbformat": 4,
 "nbformat_minor": 5
}
